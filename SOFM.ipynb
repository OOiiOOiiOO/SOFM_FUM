{
 "cells": [
  {
   "cell_type": "markdown",
   "metadata": {},
   "source": [
    "# Self- Organizing Feature Map (SOFM)\n",
    "\n",
    "\n",
    "In the family of Unsupervised Deep learning networks Self Organized Maps are used to reduce dimensionality & make clusters. It is first introduced in 1980 by Teuvo Kohonen. That is why still it is named as ‘Kohonen Maps’. Before we deep dive into the Self organized maps here are the content of this article.\n"
   ]
  }
 ],
 "metadata": {
  "language_info": {
   "name": "python"
  }
 },
 "nbformat": 4,
 "nbformat_minor": 2
}

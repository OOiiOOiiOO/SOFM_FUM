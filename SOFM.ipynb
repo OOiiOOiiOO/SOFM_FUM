{
 "cells": [
  {
   "cell_type": "markdown",
   "metadata": {},
   "source": [
    "# Self- Organizing Feature Map (SOFM)\n",
    "\n",
    "\n",
    "A self-organizing map (SOM) or self-organizing feature map (SOFM) is an unsupervised machine learning technique used to produce a low-dimensional (typically two-dimensional) representation of a higher-dimensional data set while preserving the topological structure of the data.\n",
    "A common example used to teach the principles of SOM is the mapping of colors from their three-dimensional components (red, green, and blue) into two dimensions. The network learns to represent these colors as 3D vectors in a 2D space. In addition to clustering colors into distinct regions, areas with similar properties are usually found adjacent to each other, which is a useful feature of Kohonen maps.[1]\n",
    "\n"
   ]
  },
  {
   "cell_type": "markdown",
   "metadata": {},
   "source": [
    "## References\n",
    "**1.** http://www.ai-junkie.com/ann/som/som1.html\n",
    "**2.**\n",
    "**3.**\n",
    "**4.**"
   ]
  }
 ],
 "metadata": {
  "language_info": {
   "name": "python"
  }
 },
 "nbformat": 4,
 "nbformat_minor": 2
}
